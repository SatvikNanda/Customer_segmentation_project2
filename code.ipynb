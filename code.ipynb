{
 "cells": [
  {
   "cell_type": "markdown",
   "metadata": {},
   "source": [
    "# 1. Problem Context: \n",
    "## 1.1 Problem which exists:\n",
    "Currently, the retailer simply groups their international customers by country. As you'll see in the project, this is quite inefficient because:\n",
    "* There's a large number of countries (which kind of defeats the purpose of creating groups).\n",
    "* Some countries have very few customers.\n",
    "* This approach treats large and small customers the same, regardless of their purchase patterns.\n",
    "\n",
    "## 1.2 Solution to come up with:\n",
    "The retailer needs help to create customer clusters, a.k.a **\"customer segments\"** through a data-driven approach.\n",
    "* They've provided us a dataset of past purchase data at the transaction level.\n",
    "* Our task is to build a clustering model using that dataset.\n",
    "* Our clustering model should factor in both aggregate sales patterns and specific items purchased.\n",
    "\n",
    "\n",
    "# 2. Technical Specifications and Aspects:\n",
    "## 2.1 Data Overview\n",
    "For this project:\n",
    "* The dataset has 35116 observations for previous international transactions.\n",
    "* The observations span 37 different countries.\n",
    "* **Note:** There is no target variable.\n",
    "\n",
    "We have the following features:\n",
    "\n",
    "Invoice information\n",
    "* 'InvoiceNo' – Unique ID for invoice\n",
    "* 'InvoiceDate' – Invoice date\n",
    "\n",
    "Item information\n",
    "* 'StockCode' – Unique ID for item\n",
    "* 'Description' – Text description for item\n",
    "* 'Quantity' – Units per pack for item\n",
    "* 'UnitPrice' – Price per unit in GBP\n",
    "\n",
    "Customer information\n",
    "* 'CustomerID' – Unique ID for customer\n",
    "* 'Country' – Country of customer\n",
    "\n",
    "## Type of ML Problem\n",
    "It is an unsupervised learning task, where given the features about each transaction, we need to segment the customers based on their buying patterns.\n",
    "* It is important to note that the given data is transaction-level while the clusters (or segmenst) we need to create are customer-level.\n"
   ]
  },
  {
   "cell_type": "markdown",
   "metadata": {},
   "source": [
    "# 3. Exploratory Data Analysis"
   ]
  },
  {
   "cell_type": "markdown",
   "metadata": {},
   "source": [
    "Importing the required libraries and their giving a description to why it is used"
   ]
  },
  {
   "cell_type": "code",
   "execution_count": 7,
   "metadata": {},
   "outputs": [],
   "source": [
    "# NumPy for numerical computing\n",
    "import numpy as np\n",
    "\n",
    "# Pandas for DataFrames\n",
    "import pandas as pd\n",
    "pd.set_option('display.max_columns', 100)\n",
    "\n",
    "# Visualizing missing data more effectively\n",
    "import missingno as msno\n",
    "\n",
    "# Matplotlib for visualization\n",
    "from matplotlib import pyplot as plt\n",
    "# display plots in the notebook\n",
    "%matplotlib inline \n",
    "\n",
    "# Seaborn for easier visualization\n",
    "import seaborn as sns\n",
    "\n",
    "# Ignore Warnings\n",
    "import warnings\n",
    "warnings.filterwarnings(\"ignore\")\n",
    "\n",
    "# StandardScaler from Scikit-Learn\n",
    "from sklearn.preprocessing import StandardScaler\n",
    "\n",
    "# PCA from Scikit-Learn\n",
    "from sklearn.decomposition import PCA\n",
    "\n",
    "# Scikit-Learn's KMeans algorithm\n",
    "from sklearn.cluster import KMeans\n",
    "\n",
    "# Adjusted Rand index\n",
    "from sklearn.metrics import adjusted_rand_score"
   ]
  },
  {
   "cell_type": "markdown",
   "metadata": {},
   "source": [
    "## 3.1 Loading the dataset"
   ]
  },
  {
   "cell_type": "code",
   "execution_count": 8,
   "metadata": {},
   "outputs": [],
   "source": [
    "df = pd.read_csv('C:/Users/satvi/OneDrive/Desktop/Customer_segmentation_project2/int_online_tx.csv')"
   ]
  },
  {
   "cell_type": "markdown",
   "metadata": {},
   "source": [
    "Load international online transactions data from CSV"
   ]
  },
  {
   "cell_type": "code",
   "execution_count": 9,
   "metadata": {},
   "outputs": [
    {
     "data": {
      "text/plain": [
       "(35116, 8)"
      ]
     },
     "execution_count": 9,
     "metadata": {},
     "output_type": "execute_result"
    }
   ],
   "source": [
    "df.shape"
   ]
  },
  {
   "cell_type": "code",
   "execution_count": 10,
   "metadata": {},
   "outputs": [
    {
     "data": {
      "text/html": [
       "<div>\n",
       "<style scoped>\n",
       "    .dataframe tbody tr th:only-of-type {\n",
       "        vertical-align: middle;\n",
       "    }\n",
       "\n",
       "    .dataframe tbody tr th {\n",
       "        vertical-align: top;\n",
       "    }\n",
       "\n",
       "    .dataframe thead th {\n",
       "        text-align: right;\n",
       "    }\n",
       "</style>\n",
       "<table border=\"1\" class=\"dataframe\">\n",
       "  <thead>\n",
       "    <tr style=\"text-align: right;\">\n",
       "      <th></th>\n",
       "      <th>InvoiceNo</th>\n",
       "      <th>StockCode</th>\n",
       "      <th>Description</th>\n",
       "      <th>Quantity</th>\n",
       "      <th>InvoiceDate</th>\n",
       "      <th>UnitPrice</th>\n",
       "      <th>CustomerID</th>\n",
       "      <th>Country</th>\n",
       "    </tr>\n",
       "  </thead>\n",
       "  <tbody>\n",
       "    <tr>\n",
       "      <th>0</th>\n",
       "      <td>536370</td>\n",
       "      <td>22728</td>\n",
       "      <td>ALARM CLOCK BAKELIKE PINK</td>\n",
       "      <td>24</td>\n",
       "      <td>12-01-2022 08:45</td>\n",
       "      <td>3.75</td>\n",
       "      <td>12583.0</td>\n",
       "      <td>France</td>\n",
       "    </tr>\n",
       "    <tr>\n",
       "      <th>1</th>\n",
       "      <td>536370</td>\n",
       "      <td>22727</td>\n",
       "      <td>ALARM CLOCK BAKELIKE RED</td>\n",
       "      <td>24</td>\n",
       "      <td>12-01-2022 08:45</td>\n",
       "      <td>3.75</td>\n",
       "      <td>12583.0</td>\n",
       "      <td>France</td>\n",
       "    </tr>\n",
       "    <tr>\n",
       "      <th>2</th>\n",
       "      <td>536370</td>\n",
       "      <td>22726</td>\n",
       "      <td>ALARM CLOCK BAKELIKE GREEN</td>\n",
       "      <td>12</td>\n",
       "      <td>12-01-2022 08:45</td>\n",
       "      <td>3.75</td>\n",
       "      <td>12583.0</td>\n",
       "      <td>France</td>\n",
       "    </tr>\n",
       "    <tr>\n",
       "      <th>3</th>\n",
       "      <td>536370</td>\n",
       "      <td>21724</td>\n",
       "      <td>PANDA AND BUNNIES STICKER SHEET</td>\n",
       "      <td>12</td>\n",
       "      <td>12-01-2022 08:45</td>\n",
       "      <td>0.85</td>\n",
       "      <td>12583.0</td>\n",
       "      <td>France</td>\n",
       "    </tr>\n",
       "    <tr>\n",
       "      <th>4</th>\n",
       "      <td>536370</td>\n",
       "      <td>21883</td>\n",
       "      <td>STARS GIFT TAPE</td>\n",
       "      <td>24</td>\n",
       "      <td>12-01-2022 08:45</td>\n",
       "      <td>0.65</td>\n",
       "      <td>12583.0</td>\n",
       "      <td>France</td>\n",
       "    </tr>\n",
       "    <tr>\n",
       "      <th>5</th>\n",
       "      <td>536370</td>\n",
       "      <td>22002</td>\n",
       "      <td>INFLATABLE POLITICAL GLOBE</td>\n",
       "      <td>48</td>\n",
       "      <td>12-01-2022 08:45</td>\n",
       "      <td>0.85</td>\n",
       "      <td>12583.0</td>\n",
       "      <td>France</td>\n",
       "    </tr>\n",
       "    <tr>\n",
       "      <th>6</th>\n",
       "      <td>536370</td>\n",
       "      <td>21791</td>\n",
       "      <td>VINTAGE HEADS AND TAILS CARD GAME</td>\n",
       "      <td>24</td>\n",
       "      <td>12-01-2022 08:45</td>\n",
       "      <td>1.25</td>\n",
       "      <td>12583.0</td>\n",
       "      <td>France</td>\n",
       "    </tr>\n",
       "    <tr>\n",
       "      <th>7</th>\n",
       "      <td>536370</td>\n",
       "      <td>22235</td>\n",
       "      <td>SET/2 RED RETROSPOT TEA TOWELS</td>\n",
       "      <td>18</td>\n",
       "      <td>12-01-2022 08:45</td>\n",
       "      <td>2.95</td>\n",
       "      <td>12583.0</td>\n",
       "      <td>France</td>\n",
       "    </tr>\n",
       "    <tr>\n",
       "      <th>8</th>\n",
       "      <td>536370</td>\n",
       "      <td>22326</td>\n",
       "      <td>ROUND SNACK BOXES SET OF4 WOODLAND</td>\n",
       "      <td>24</td>\n",
       "      <td>12-01-2022 08:45</td>\n",
       "      <td>2.95</td>\n",
       "      <td>12583.0</td>\n",
       "      <td>France</td>\n",
       "    </tr>\n",
       "    <tr>\n",
       "      <th>9</th>\n",
       "      <td>536370</td>\n",
       "      <td>22629</td>\n",
       "      <td>SPACEBOY LUNCH BOX</td>\n",
       "      <td>24</td>\n",
       "      <td>12-01-2022 08:45</td>\n",
       "      <td>1.95</td>\n",
       "      <td>12583.0</td>\n",
       "      <td>France</td>\n",
       "    </tr>\n",
       "  </tbody>\n",
       "</table>\n",
       "</div>"
      ],
      "text/plain": [
       "   InvoiceNo StockCode                          Description  Quantity  \\\n",
       "0     536370     22728            ALARM CLOCK BAKELIKE PINK        24   \n",
       "1     536370     22727            ALARM CLOCK BAKELIKE RED         24   \n",
       "2     536370     22726           ALARM CLOCK BAKELIKE GREEN        12   \n",
       "3     536370     21724      PANDA AND BUNNIES STICKER SHEET        12   \n",
       "4     536370     21883                     STARS GIFT TAPE         24   \n",
       "5     536370     22002          INFLATABLE POLITICAL GLOBE         48   \n",
       "6     536370     21791   VINTAGE HEADS AND TAILS CARD GAME         24   \n",
       "7     536370     22235      SET/2 RED RETROSPOT TEA TOWELS         18   \n",
       "8     536370     22326  ROUND SNACK BOXES SET OF4 WOODLAND         24   \n",
       "9     536370     22629                  SPACEBOY LUNCH BOX         24   \n",
       "\n",
       "        InvoiceDate  UnitPrice  CustomerID Country  \n",
       "0  12-01-2022 08:45       3.75     12583.0  France  \n",
       "1  12-01-2022 08:45       3.75     12583.0  France  \n",
       "2  12-01-2022 08:45       3.75     12583.0  France  \n",
       "3  12-01-2022 08:45       0.85     12583.0  France  \n",
       "4  12-01-2022 08:45       0.65     12583.0  France  \n",
       "5  12-01-2022 08:45       0.85     12583.0  France  \n",
       "6  12-01-2022 08:45       1.25     12583.0  France  \n",
       "7  12-01-2022 08:45       2.95     12583.0  France  \n",
       "8  12-01-2022 08:45       2.95     12583.0  France  \n",
       "9  12-01-2022 08:45       1.95     12583.0  France  "
      ]
     },
     "execution_count": 10,
     "metadata": {},
     "output_type": "execute_result"
    }
   ],
   "source": [
    "df.head(10)"
   ]
  },
  {
   "cell_type": "markdown",
   "metadata": {},
   "source": [
    "printing the dimension of and the first 10 rows of the dataset"
   ]
  },
  {
   "cell_type": "markdown",
   "metadata": {},
   "source": []
  }
 ],
 "metadata": {
  "kernelspec": {
   "display_name": "Python 3",
   "language": "python",
   "name": "python3"
  },
  "language_info": {
   "codemirror_mode": {
    "name": "ipython",
    "version": 3
   },
   "file_extension": ".py",
   "mimetype": "text/x-python",
   "name": "python",
   "nbconvert_exporter": "python",
   "pygments_lexer": "ipython3",
   "version": "3.12.3"
  }
 },
 "nbformat": 4,
 "nbformat_minor": 2
}
